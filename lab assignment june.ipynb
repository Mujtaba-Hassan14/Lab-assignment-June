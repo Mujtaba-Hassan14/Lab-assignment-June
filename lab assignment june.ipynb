{
 "cells": [
  {
   "cell_type": "markdown",
   "id": "ca9e38a8-f38c-4bd6-b245-88d0ed53ee28",
   "metadata": {},
   "source": [
    "## Question 01"
   ]
  },
  {
   "cell_type": "code",
   "execution_count": 1,
   "id": "8326169c-8be6-4a6f-9532-c176e64fb8ad",
   "metadata": {},
   "outputs": [
    {
     "name": "stdout",
     "output_type": "stream",
     "text": [
      "1. Person Output: Name: Ali, Age: 25, City: Lahore\n"
     ]
    }
   ],
   "source": [
    "class Person:\n",
    "    def __init__(self, name, age, city):\n",
    "        self.name = name\n",
    "        self.age = age\n",
    "        self.city = city\n",
    "\n",
    "    def __str__(self):\n",
    "        return f\"Name: {self.name}, Age: {self.age}, City: {self.city}\"\n",
    "\n",
    "person = Person(\"Ali\", 25, \"Lahore\")\n",
    "print(\"1. Person Output:\", person)"
   ]
  },
  {
   "cell_type": "markdown",
   "id": "b8dd5211-0924-4909-8a6a-fd13cc1899c2",
   "metadata": {},
   "source": [
    "## Question 02"
   ]
  },
  {
   "cell_type": "code",
   "execution_count": 2,
   "id": "c95d21a6-20d2-4659-bfb2-62bf258d3138",
   "metadata": {},
   "outputs": [
    {
     "name": "stdout",
     "output_type": "stream",
     "text": [
      "2. Car Output: Make: Toyota, Model: Corolla, Year: 2020\n"
     ]
    }
   ],
   "source": [
    "class Car:\n",
    "    def __init__(self, make, model, year):\n",
    "        self.make = make\n",
    "        self.model = model\n",
    "        self.year = year\n",
    "\n",
    "    def __str__(self):\n",
    "        return f\"Make: {self.make}, Model: {self.model}, Year: {self.year}\"\n",
    "\n",
    "car = Car(\"Toyota\", \"Corolla\", 2020)\n",
    "print(\"2. Car Output:\", car)"
   ]
  },
  {
   "cell_type": "markdown",
   "id": "3dde6121-b54a-4bbc-9c13-b249f870bf0d",
   "metadata": {},
   "source": [
    "## Question 03"
   ]
  },
  {
   "cell_type": "code",
   "execution_count": 3,
   "id": "13ce6ad5-033e-42ae-ac80-9696557d1ed0",
   "metadata": {},
   "outputs": [
    {
     "name": "stdout",
     "output_type": "stream",
     "text": [
      "3. Circle Area: 78.53981633974483\n",
      "3. Circle Circumference: 31.41592653589793\n"
     ]
    }
   ],
   "source": [
    "import math\n",
    "class Circle:\n",
    "    def __init__(self, radius):\n",
    "        self.radius = radius\n",
    "\n",
    "    def area(self):\n",
    "        return math.pi * self.radius ** 2\n",
    "\n",
    "    def circumference(self):\n",
    "        return 2 * math.pi * self.radius\n",
    "\n",
    "circle = Circle(5)\n",
    "print(\"3. Circle Area:\", circle.area())\n",
    "print(\"3. Circle Circumference:\", circle.circumference())"
   ]
  },
  {
   "cell_type": "markdown",
   "id": "8a4ec1e7-0b4a-446f-b151-5b6bb1e75239",
   "metadata": {},
   "source": [
    "## Question 04"
   ]
  },
  {
   "cell_type": "code",
   "execution_count": 4,
   "id": "baada6b9-a46c-45ef-bf9c-5aed35903fee",
   "metadata": {},
   "outputs": [
    {
     "name": "stdout",
     "output_type": "stream",
     "text": [
      "4. Rectangle Area: 24\n",
      "4. Rectangle Perimeter: 20\n"
     ]
    }
   ],
   "source": [
    "class Rectangle:\n",
    "    def __init__(self, length, width):\n",
    "        self.length = length\n",
    "        self.width = width\n",
    "\n",
    "    def area(self):\n",
    "        return self.length * self.width\n",
    "\n",
    "    def perimeter(self):\n",
    "        return 2 * (self.length + self.width)\n",
    "\n",
    "rectangle = Rectangle(4, 6)\n",
    "print(\"4. Rectangle Area:\", rectangle.area())\n",
    "print(\"4. Rectangle Perimeter:\", rectangle.perimeter())"
   ]
  },
  {
   "cell_type": "markdown",
   "id": "4122079e-8ad3-40d7-bad5-e5a1d595d58d",
   "metadata": {},
   "source": [
    "## Question 05"
   ]
  },
  {
   "cell_type": "code",
   "execution_count": 5,
   "id": "12d7f1c3-7240-4d9f-a01d-f26e7441cfc0",
   "metadata": {},
   "outputs": [
    {
     "name": "stdout",
     "output_type": "stream",
     "text": [
      "5. Student Average Marks: 84.33333333333333\n"
     ]
    }
   ],
   "source": [
    "class Student:\n",
    "    def __init__(self, name, roll_number, marks):\n",
    "        self.name = name\n",
    "        self.roll_number = roll_number\n",
    "        self.marks = marks\n",
    "\n",
    "    def average_marks(self):\n",
    "        return sum(self.marks) / len(self.marks)\n",
    "\n",
    "student = Student(\"Sara\", \"B123\", [85, 90, 78])\n",
    "print(\"5. Student Average Marks:\", student.average_marks())"
   ]
  },
  {
   "cell_type": "markdown",
   "id": "bda05ccf-7b75-4a2b-a9db-6f0ccc1c785e",
   "metadata": {},
   "source": [
    "## Question 06"
   ]
  },
  {
   "cell_type": "code",
   "execution_count": 6,
   "id": "a4607990-11c2-4d83-8801-a0cfcb9e066a",
   "metadata": {},
   "outputs": [
    {
     "name": "stdout",
     "output_type": "stream",
     "text": [
      "6. Book Output: Title: Python Programming, Author: John Doe, Year: 2022\n"
     ]
    }
   ],
   "source": [
    "class Book:\n",
    "    def __init__(self, title, author, publication_year):\n",
    "        self.title = title\n",
    "        self.author = author\n",
    "        self.publication_year = publication_year\n",
    "\n",
    "    def __str__(self):\n",
    "        return f\"Title: {self.title}, Author: {self.author}, Year: {self.publication_year}\"\n",
    "\n",
    "book = Book(\"Python Programming\", \"John Doe\", 2022)\n",
    "print(\"6. Book Output:\", book)"
   ]
  },
  {
   "cell_type": "markdown",
   "id": "c2414b21-03b7-49e2-b931-a879eed0e3c3",
   "metadata": {},
   "source": [
    "## Question 07"
   ]
  },
  {
   "cell_type": "code",
   "execution_count": 7,
   "id": "2e2c901a-a552-45be-aaa6-17523ec53f69",
   "metadata": {},
   "outputs": [
    {
     "name": "stdout",
     "output_type": "stream",
     "text": [
      "7. Employee Output: Name: Ahmed, Salary: 50000, Designation: Manager\n"
     ]
    }
   ],
   "source": [
    "class Employee:\n",
    "    def __init__(self, name, salary, designation):\n",
    "        self.name = name\n",
    "        self.salary = salary\n",
    "        self.designation = designation\n",
    "\n",
    "    def __str__(self):\n",
    "        return f\"Name: {self.name}, Salary: {self.salary}, Designation: {self.designation}\"\n",
    "\n",
    "employee = Employee(\"Ahmed\", 50000, \"Manager\")\n",
    "print(\"7. Employee Output:\", employee)"
   ]
  },
  {
   "cell_type": "markdown",
   "id": "5a79124c-2b8b-4c61-a8b3-450c7102998d",
   "metadata": {},
   "source": [
    "## Question 08"
   ]
  },
  {
   "cell_type": "code",
   "execution_count": 8,
   "id": "45fcb53a-9651-4210-a6a2-18f8ef9605d0",
   "metadata": {},
   "outputs": [
    {
     "name": "stdout",
     "output_type": "stream",
     "text": [
      "8. Bank Balance after deposit: 1500\n",
      "8. Bank Balance after withdrawal: 1200\n"
     ]
    }
   ],
   "source": [
    "class Bank:\n",
    "    def __init__(self, name, account_number, balance):\n",
    "        self.name = name\n",
    "        self.account_number = account_number\n",
    "        self.balance = balance\n",
    "\n",
    "    def deposit(self, amount):\n",
    "        self.balance += amount\n",
    "        return self.balance\n",
    "\n",
    "    def withdraw(self, amount):\n",
    "        if amount <= self.balance:\n",
    "            self.balance -= amount\n",
    "            return self.balance\n",
    "        else:\n",
    "            return \"Insufficient balance\"\n",
    "\n",
    "bank = Bank(\"Ali\", \"123456789\", 1000)\n",
    "print(\"8. Bank Balance after deposit:\", bank.deposit(500))\n",
    "print(\"8. Bank Balance after withdrawal:\", bank.withdraw(300))"
   ]
  },
  {
   "cell_type": "markdown",
   "id": "bedda8d2-597c-4399-ba75-255035cefee2",
   "metadata": {},
   "source": [
    "## Question 09"
   ]
  },
  {
   "cell_type": "code",
   "execution_count": 9,
   "id": "84121bb3-9880-4240-8113-d2593db68755",
   "metadata": {},
   "outputs": [
    {
     "name": "stdout",
     "output_type": "stream",
     "text": [
      "9. CircleShape Area: 28.274333882308138\n",
      "9. RectangleShape Area: 20\n",
      "9. TriangleShape Area: 21.0\n"
     ]
    }
   ],
   "source": [
    "class Shape:\n",
    "    def area(self):\n",
    "        pass\n",
    "\n",
    "class CircleShape(Shape):\n",
    "    def __init__(self, radius):\n",
    "        self.radius = radius\n",
    "\n",
    "    def area(self):\n",
    "        return math.pi * self.radius ** 2\n",
    "\n",
    "class RectangleShape(Shape):\n",
    "    def __init__(self, length, width):\n",
    "        self.length = length\n",
    "        self.width = width\n",
    "\n",
    "    def area(self):\n",
    "        return self.length * self.width\n",
    "\n",
    "class TriangleShape(Shape):\n",
    "    def __init__(self, base, height):\n",
    "        self.base = base\n",
    "        self.height = height\n",
    "\n",
    "    def area(self):\n",
    "        return 0.5 * self.base * self.height\n",
    "\n",
    "circle_shape = CircleShape(3)\n",
    "rectangle_shape = RectangleShape(4, 5)\n",
    "triangle_shape = TriangleShape(6, 7)\n",
    "\n",
    "print(\"9. CircleShape Area:\", circle_shape.area())\n",
    "print(\"9. RectangleShape Area:\", rectangle_shape.area())\n",
    "print(\"9. TriangleShape Area:\", triangle_shape.area())"
   ]
  },
  {
   "cell_type": "code",
   "execution_count": null,
   "id": "fe2c1e20-7156-4173-9da9-40677babed3e",
   "metadata": {},
   "outputs": [],
   "source": []
  }
 ],
 "metadata": {
  "kernelspec": {
   "display_name": "anaconda-panel-2023.05-py310",
   "language": "python",
   "name": "conda-env-anaconda-panel-2023.05-py310-py"
  },
  "language_info": {
   "codemirror_mode": {
    "name": "ipython",
    "version": 3
   },
   "file_extension": ".py",
   "mimetype": "text/x-python",
   "name": "python",
   "nbconvert_exporter": "python",
   "pygments_lexer": "ipython3",
   "version": "3.11.5"
  }
 },
 "nbformat": 4,
 "nbformat_minor": 5
}
